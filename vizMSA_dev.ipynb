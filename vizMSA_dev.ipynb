{
 "cells": [
  {
   "cell_type": "code",
   "execution_count": 108,
   "id": "6ca0e77c-6dca-414e-b7fb-ff3fa360133d",
   "metadata": {},
   "outputs": [],
   "source": [
    "import pandas as pd\n",
    "import matplotlib.pyplot as plt\n",
    "import matplotlib.patches as patches\n",
    "import seaborn as sns"
   ]
  },
  {
   "cell_type": "code",
   "execution_count": 138,
   "id": "63207af3-c0fa-4db6-9786-940edf83e671",
   "metadata": {},
   "outputs": [],
   "source": [
    "def CalculateFontsize(xlim, ylim, fig, rows, cols, unit_scale=1):\n",
    "    # Get axis limits\n",
    "    #xlim = ax.get_xlim()\n",
    "    #ylim = ax.get_ylim()\n",
    "\n",
    "    # Get figure dimensions in pixels\n",
    "    fig_width, fig_height = fig.get_size_inches() * fig.dpi\n",
    "\n",
    "    # Get axis dimensions in pixels\n",
    "    bbox = ax.get_window_extent().transformed(fig.dpi_scale_trans.inverted())\n",
    "    ax_width, ax_height = bbox.width * fig.dpi, bbox.height * fig.dpi\n",
    "\n",
    "    # Calculate font size proportional to axis units\n",
    "    fontsize_x = unit_scale * ax_width / (xlim[1] - xlim[0]) / cols\n",
    "    fontsize_y = unit_scale * ax_height / (ylim[1] - ylim[0]) / rows\n",
    "\n",
    "    # Use the minimum of the two to keep the font size consistent\n",
    "    fontsize = min(fontsize_x, fontsize_y)\n",
    "\n",
    "    return fontsize"
   ]
  },
  {
   "cell_type": "code",
   "execution_count": 139,
   "id": "37d12119-b410-453a-8ce4-ee254fb4b957",
   "metadata": {},
   "outputs": [],
   "source": [
    "def DrawMSA(msa, axlim = None, color_order = None, palette=None, ax=None, fig=None):\n",
    "    # Get the canvas attributes.\n",
    "    ax = ax or plt.gca()\n",
    "    \n",
    "    fig = fig or ax.get_figure()\n",
    "    renderer = fig.canvas.get_renderer()\n",
    "    \n",
    "    height = len(msa)\n",
    "    length = len(msa[0])\n",
    "    \n",
    "    if (axlim == None):\n",
    "        fontsize = CalculateFontsize(ax.get_xlim(), ax.get_ylim(), fig, height, length)\n",
    "    else:\n",
    "        fontsize = CalculateFontsize(axlim[0], axlim[1], fig, height, length)\n",
    "    chrColor = {}\n",
    "    \n",
    "    if color_order == None:\n",
    "        for a in msa:\n",
    "            for c in a:\n",
    "                if c not in chrColor:\n",
    "                    size = len(chrColor)\n",
    "                    chrColor[c] = sns.color_palette(palette)[size]\n",
    "    else:\n",
    "        for i,c in enumerate(color_order):\n",
    "            chrColor[c] = sns.color_palette(palette)[i]\n",
    "    \n",
    "    for i, a in enumerate(msa):\n",
    "        for j,c in enumerate(a):\n",
    "            ax.text(x=j/length+0.5/length, y=i/height, s=c, color=\"white\",\n",
    "                va=\"bottom\", ha=\"center\", fontsize=fontsize,\n",
    "                transform=ax.transAxes if axlim else ax.transData)\n",
    "            \n",
    "            ax.add_patch( patches.Rectangle(xy=(j/length, i/height),\n",
    "                                           width = 1/length, height=1/height,\n",
    "                                          facecolor=chrColor[c], linewidth=fontsize/50, edgecolor=\"white\",\n",
    "                                          transform=ax.transAxes if axlim else ax.transData))\n",
    "            \n",
    "    #ax.set_xlim(0, len(msa[0]))\n",
    "    #ax.set_ylim(-0.5, len(msa) - 0.5)\n",
    "    ax.set_axis_off()\n",
    "    return ax"
   ]
  },
  {
   "cell_type": "code",
   "execution_count": 140,
   "id": "9857702b-904f-4aa8-a330-d867bb91afd0",
   "metadata": {},
   "outputs": [
    {
     "data": {
      "image/png": "[encoded data removed]",
      "text/plain": [
       "<Figure size 640x480 with 1 Axes>"
      ]
     },
     "metadata": {},
     "output_type": "display_data"
    }
   ],
   "source": [
    "ax=DrawMSA(msa=[\"AC-G-T\", \"A-CGT-\"], color_order=\"ACGT-\")"
   ]
  },
  {
   "cell_type": "code",
   "execution_count": null,
   "id": "95c882f1-5d25-4b30-8f10-bc0e1d767ee1",
   "metadata": {},
   "outputs": [],
   "source": []
  }
 ],
 "metadata": {
  "kernelspec": {
   "display_name": "Python 3 (ipykernel)",
   "language": "python",
   "name": "python3"
  },
  "language_info": {
   "codemirror_mode": {
    "name": "ipython",
    "version": 3
   },
   "file_extension": ".py",
   "mimetype": "text/x-python",
   "name": "python",
   "nbconvert_exporter": "python",
   "pygments_lexer": "ipython3",
   "version": "3.11.0"
  }
 },
 "nbformat": 4,
 "nbformat_minor": 5
}
