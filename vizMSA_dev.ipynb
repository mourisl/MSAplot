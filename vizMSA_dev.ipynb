{
 "cells": [
  {
   "cell_type": "code",
   "execution_count": 108,
   "id": "6ca0e77c-6dca-414e-b7fb-ff3fa360133d",
   "metadata": {},
   "outputs": [],
   "source": [
    "import pandas as pd\n",
    "import matplotlib.pyplot as plt\n",
    "import matplotlib.patches as patches\n",
    "import seaborn as sns"
   ]
  },
  {
   "cell_type": "code",
   "execution_count": 138,
   "id": "63207af3-c0fa-4db6-9786-940edf83e671",
   "metadata": {},
   "outputs": [],
   "source": [
    "def CalculateFontsize(xlim, ylim, ax, fig, rows, cols, unit_scale=1):\n",
    "    # Get axis limits\n",
    "    #xlim = ax.get_xlim()\n",
    "    #ylim = ax.get_ylim()\n",
    "\n",
    "    # Get figure dimensions in pixels\n",
    "    fig_width, fig_height = fig.get_size_inches() * fig.dpi\n",
    "\n",
    "    # Get axis dimensions in pixels\n",
    "    bbox = ax.get_window_extent().transformed(fig.dpi_scale_trans.inverted())\n",
    "    ax_width, ax_height = bbox.width * fig.dpi, bbox.height * fig.dpi\n",
    "\n",
    "    # Calculate font size proportional to axis units\n",
    "    fontsize_x = unit_scale * ax_width / (xlim[1] - xlim[0]) / cols\n",
    "    fontsize_y = unit_scale * ax_height / (ylim[1] - ylim[0]) / rows\n",
    "\n",
    "    # Use the minimum of the two to keep the font size consistent\n",
    "    fontsize = min(fontsize_x, fontsize_y)\n",
    "\n",
    "    return fontsize"
   ]
  },
  {
   "cell_type": "code",
   "execution_count": 153,
   "id": "37d12119-b410-453a-8ce4-ee254fb4b957",
   "metadata": {},
   "outputs": [],
   "source": [
    "def DrawMSA(msa, axlim = None, color_order = None, palette=None, ax=None, fig=None):\n",
    "    # Get the canvas attributes.\n",
    "    ax = ax or plt.gca()\n",
    "    \n",
    "    fig = fig or ax.get_figure()\n",
    "    renderer = fig.canvas.get_renderer()\n",
    "    \n",
    "    height = len(msa)\n",
    "    length = len(msa[0])\n",
    "    \n",
    "    if (axlim == None):\n",
    "        fontsize = CalculateFontsize(ax.get_xlim(), ax.get_ylim(), ax, fig, height, length)\n",
    "    else:\n",
    "        fontsize = CalculateFontsize(axlim[0], axlim[1], ax, fig, height, length)\n",
    "    chrColor = {}\n",
    "    \n",
    "    if color_order == None:\n",
    "        for a in msa:\n",
    "            for c in a:\n",
    "                if c not in chrColor:\n",
    "                    size = len(chrColor)\n",
    "                    chrColor[c] = sns.color_palette(palette)[size]\n",
    "    else:\n",
    "        for i,c in enumerate(color_order):\n",
    "            chrColor[c] = sns.color_palette(palette)[i]\n",
    "    \n",
    "    for i, a in enumerate(msa):\n",
    "        for j,c in enumerate(a):\n",
    "            if (axlim == None):\n",
    "                ax.text(x=j/length+0.5/length, y=i/height, s=c, color=\"white\",\n",
    "                    va=\"bottom\", ha=\"center\", fontsize=fontsize,\n",
    "                    transform=ax.transAxes)\n",
    "                ax.add_patch( patches.Rectangle(xy=(j/length, i/height),\n",
    "                                               width = 1/length, height=1/height,\n",
    "                                              facecolor=chrColor[c], linewidth=fontsize/50, edgecolor=\"white\",\n",
    "                                              transform=ax.transAxes))\n",
    "                ax.set_axis_off()\n",
    "            else:\n",
    "                return ax\n",
    "            \n",
    "    #ax.set_xlim(0, len(msa[0]))\n",
    "    #ax.set_ylim(-0.5, len(msa) - 0.5)\n",
    "    return ax"
   ]
  },
  {
   "cell_type": "code",
   "execution_count": 154,
   "id": "9857702b-904f-4aa8-a330-d867bb91afd0",
   "metadata": {},
   "outputs": [
    {
     "ename": "AttributeError",
     "evalue": "'Axes' object has no attribute 'get_size_inches'",
     "output_type": "error",
     "traceback": [
      "\u001b[0;31m---------------------------------------------------------------------------\u001b[0m",
      "\u001b[0;31mAttributeError\u001b[0m                            Traceback (most recent call last)",
      "Cell \u001b[0;32mIn[154], line 1\u001b[0m\n\u001b[0;32m----> 1\u001b[0m ax\u001b[38;5;241m=\u001b[39m\u001b[43mDrawMSA\u001b[49m\u001b[43m(\u001b[49m\u001b[43mmsa\u001b[49m\u001b[38;5;241;43m=\u001b[39;49m\u001b[43m[\u001b[49m\u001b[38;5;124;43m\"\u001b[39;49m\u001b[38;5;124;43mAC-G-T\u001b[39;49m\u001b[38;5;124;43m\"\u001b[39;49m\u001b[43m,\u001b[49m\u001b[43m \u001b[49m\u001b[38;5;124;43m\"\u001b[39;49m\u001b[38;5;124;43mA-CGT-\u001b[39;49m\u001b[38;5;124;43m\"\u001b[39;49m\u001b[43m]\u001b[49m\u001b[43m,\u001b[49m\u001b[43m \u001b[49m\u001b[43mcolor_order\u001b[49m\u001b[38;5;241;43m=\u001b[39;49m\u001b[38;5;124;43m\"\u001b[39;49m\u001b[38;5;124;43mACGT-\u001b[39;49m\u001b[38;5;124;43m\"\u001b[39;49m\u001b[43m)\u001b[49m\n",
      "Cell \u001b[0;32mIn[153], line 12\u001b[0m, in \u001b[0;36mDrawMSA\u001b[0;34m(msa, axlim, color_order, palette, ax, fig)\u001b[0m\n\u001b[1;32m      9\u001b[0m length \u001b[38;5;241m=\u001b[39m \u001b[38;5;28mlen\u001b[39m(msa[\u001b[38;5;241m0\u001b[39m])\n\u001b[1;32m     11\u001b[0m \u001b[38;5;28;01mif\u001b[39;00m (axlim \u001b[38;5;241m==\u001b[39m \u001b[38;5;28;01mNone\u001b[39;00m):\n\u001b[0;32m---> 12\u001b[0m     fontsize \u001b[38;5;241m=\u001b[39m \u001b[43mCalculateFontsize\u001b[49m\u001b[43m(\u001b[49m\u001b[43max\u001b[49m\u001b[38;5;241;43m.\u001b[39;49m\u001b[43mget_xlim\u001b[49m\u001b[43m(\u001b[49m\u001b[43m)\u001b[49m\u001b[43m,\u001b[49m\u001b[43m \u001b[49m\u001b[43max\u001b[49m\u001b[38;5;241;43m.\u001b[39;49m\u001b[43mget_ylim\u001b[49m\u001b[43m(\u001b[49m\u001b[43m)\u001b[49m\u001b[43m,\u001b[49m\u001b[43m \u001b[49m\u001b[43max\u001b[49m\u001b[43m,\u001b[49m\u001b[43m \u001b[49m\u001b[43mfig\u001b[49m\u001b[43m,\u001b[49m\u001b[43m \u001b[49m\u001b[43mheight\u001b[49m\u001b[43m,\u001b[49m\u001b[43m \u001b[49m\u001b[43mlength\u001b[49m\u001b[43m)\u001b[49m\n\u001b[1;32m     13\u001b[0m \u001b[38;5;28;01melse\u001b[39;00m:\n\u001b[1;32m     14\u001b[0m     fontsize \u001b[38;5;241m=\u001b[39m CalculateFontsize(axlim[\u001b[38;5;241m0\u001b[39m], axlim[\u001b[38;5;241m1\u001b[39m], ax, fig, height, length)\n",
      "Cell \u001b[0;32mIn[138], line 7\u001b[0m, in \u001b[0;36mCalculateFontsize\u001b[0;34m(xlim, ylim, fig, rows, cols, unit_scale)\u001b[0m\n\u001b[1;32m      1\u001b[0m \u001b[38;5;28;01mdef\u001b[39;00m \u001b[38;5;21mCalculateFontsize\u001b[39m(xlim, ylim, fig, rows, cols, unit_scale\u001b[38;5;241m=\u001b[39m\u001b[38;5;241m1\u001b[39m):\n\u001b[1;32m      2\u001b[0m     \u001b[38;5;66;03m# Get axis limits\u001b[39;00m\n\u001b[1;32m      3\u001b[0m     \u001b[38;5;66;03m#xlim = ax.get_xlim()\u001b[39;00m\n\u001b[1;32m      4\u001b[0m     \u001b[38;5;66;03m#ylim = ax.get_ylim()\u001b[39;00m\n\u001b[1;32m      5\u001b[0m \n\u001b[1;32m      6\u001b[0m     \u001b[38;5;66;03m# Get figure dimensions in pixels\u001b[39;00m\n\u001b[0;32m----> 7\u001b[0m     fig_width, fig_height \u001b[38;5;241m=\u001b[39m \u001b[43mfig\u001b[49m\u001b[38;5;241;43m.\u001b[39;49m\u001b[43mget_size_inches\u001b[49m() \u001b[38;5;241m*\u001b[39m fig\u001b[38;5;241m.\u001b[39mdpi\n\u001b[1;32m      9\u001b[0m     \u001b[38;5;66;03m# Get axis dimensions in pixels\u001b[39;00m\n\u001b[1;32m     10\u001b[0m     bbox \u001b[38;5;241m=\u001b[39m ax\u001b[38;5;241m.\u001b[39mget_window_extent()\u001b[38;5;241m.\u001b[39mtransformed(fig\u001b[38;5;241m.\u001b[39mdpi_scale_trans\u001b[38;5;241m.\u001b[39minverted())\n",
      "\u001b[0;31mAttributeError\u001b[0m: 'Axes' object has no attribute 'get_size_inches'"
     ]
    },
    {
     "data": {
      "image/png": "[encoded data removed]",
      "text/plain": [
       "<Figure size 640x480 with 1 Axes>"
      ]
     },
     "metadata": {},
     "output_type": "display_data"
    }
   ],
   "source": [
    "ax=DrawMSA(msa=[\"AC-G-T\", \"A-CGT-\"], color_order=\"ACGT-\")"
   ]
  },
  {
   "cell_type": "code",
   "execution_count": 152,
   "id": "95c882f1-5d25-4b30-8f10-bc0e1d767ee1",
   "metadata": {},
   "outputs": [
    {
     "ename": "AttributeError",
     "evalue": "'NoneType' object has no attribute 'get_window_extent'",
     "output_type": "error",
     "traceback": [
      "\u001b[0;31m---------------------------------------------------------------------------\u001b[0m",
      "\u001b[0;31mAttributeError\u001b[0m                            Traceback (most recent call last)",
      "Cell \u001b[0;32mIn[152], line 1\u001b[0m\n\u001b[0;32m----> 1\u001b[0m ax\u001b[38;5;241m=\u001b[39m\u001b[43mDrawMSA\u001b[49m\u001b[43m(\u001b[49m\u001b[43mmsa\u001b[49m\u001b[38;5;241;43m=\u001b[39;49m\u001b[43m[\u001b[49m\u001b[38;5;124;43m\"\u001b[39;49m\u001b[38;5;124;43mAC-G-T\u001b[39;49m\u001b[38;5;124;43m\"\u001b[39;49m\u001b[43m,\u001b[49m\u001b[43m \u001b[49m\u001b[38;5;124;43m\"\u001b[39;49m\u001b[38;5;124;43mA-CGT-\u001b[39;49m\u001b[38;5;124;43m\"\u001b[39;49m\u001b[43m]\u001b[49m\u001b[43m,\u001b[49m\u001b[43m \u001b[49m\u001b[43mcolor_order\u001b[49m\u001b[38;5;241;43m=\u001b[39;49m\u001b[38;5;124;43m\"\u001b[39;49m\u001b[38;5;124;43mACGT-\u001b[39;49m\u001b[38;5;124;43m\"\u001b[39;49m\u001b[43m,\u001b[49m\n\u001b[1;32m      2\u001b[0m \u001b[43m          \u001b[49m\u001b[43maxlim\u001b[49m\u001b[38;5;241;43m=\u001b[39;49m\u001b[43m[\u001b[49m\u001b[43m[\u001b[49m\u001b[38;5;241;43m0\u001b[39;49m\u001b[43m,\u001b[49m\u001b[38;5;241;43m10\u001b[39;49m\u001b[43m]\u001b[49m\u001b[43m,\u001b[49m\u001b[43m \u001b[49m\u001b[43m[\u001b[49m\u001b[38;5;241;43m0\u001b[39;49m\u001b[43m,\u001b[49m\u001b[38;5;241;43m10\u001b[39;49m\u001b[43m]\u001b[49m\u001b[43m]\u001b[49m\u001b[43m)\u001b[49m\n\u001b[1;32m      3\u001b[0m ax\u001b[38;5;241m.\u001b[39mset(xlim\u001b[38;5;241m=\u001b[39m[\u001b[38;5;241m0\u001b[39m,\u001b[38;5;241m10\u001b[39m], ylim\u001b[38;5;241m=\u001b[39m[\u001b[38;5;241m0\u001b[39m, \u001b[38;5;241m10\u001b[39m])\n",
      "Cell \u001b[0;32mIn[148], line 14\u001b[0m, in \u001b[0;36mDrawMSA\u001b[0;34m(msa, axlim, color_order, palette, ax, fig)\u001b[0m\n\u001b[1;32m     12\u001b[0m     fontsize \u001b[38;5;241m=\u001b[39m CalculateFontsize(ax\u001b[38;5;241m.\u001b[39mget_xlim(), ax\u001b[38;5;241m.\u001b[39mget_ylim(), fig, height, length)\n\u001b[1;32m     13\u001b[0m \u001b[38;5;28;01melse\u001b[39;00m:\n\u001b[0;32m---> 14\u001b[0m     fontsize \u001b[38;5;241m=\u001b[39m \u001b[43mCalculateFontsize\u001b[49m\u001b[43m(\u001b[49m\u001b[43maxlim\u001b[49m\u001b[43m[\u001b[49m\u001b[38;5;241;43m0\u001b[39;49m\u001b[43m]\u001b[49m\u001b[43m,\u001b[49m\u001b[43m \u001b[49m\u001b[43maxlim\u001b[49m\u001b[43m[\u001b[49m\u001b[38;5;241;43m1\u001b[39;49m\u001b[43m]\u001b[49m\u001b[43m,\u001b[49m\u001b[43m \u001b[49m\u001b[43mfig\u001b[49m\u001b[43m,\u001b[49m\u001b[43m \u001b[49m\u001b[43mheight\u001b[49m\u001b[43m,\u001b[49m\u001b[43m \u001b[49m\u001b[43mlength\u001b[49m\u001b[43m)\u001b[49m\n\u001b[1;32m     15\u001b[0m chrColor \u001b[38;5;241m=\u001b[39m {}\n\u001b[1;32m     17\u001b[0m \u001b[38;5;28;01mif\u001b[39;00m color_order \u001b[38;5;241m==\u001b[39m \u001b[38;5;28;01mNone\u001b[39;00m:\n",
      "Cell \u001b[0;32mIn[138], line 10\u001b[0m, in \u001b[0;36mCalculateFontsize\u001b[0;34m(xlim, ylim, fig, rows, cols, unit_scale)\u001b[0m\n\u001b[1;32m      7\u001b[0m fig_width, fig_height \u001b[38;5;241m=\u001b[39m fig\u001b[38;5;241m.\u001b[39mget_size_inches() \u001b[38;5;241m*\u001b[39m fig\u001b[38;5;241m.\u001b[39mdpi\n\u001b[1;32m      9\u001b[0m \u001b[38;5;66;03m# Get axis dimensions in pixels\u001b[39;00m\n\u001b[0;32m---> 10\u001b[0m bbox \u001b[38;5;241m=\u001b[39m \u001b[43max\u001b[49m\u001b[38;5;241;43m.\u001b[39;49m\u001b[43mget_window_extent\u001b[49m()\u001b[38;5;241m.\u001b[39mtransformed(fig\u001b[38;5;241m.\u001b[39mdpi_scale_trans\u001b[38;5;241m.\u001b[39minverted())\n\u001b[1;32m     11\u001b[0m ax_width, ax_height \u001b[38;5;241m=\u001b[39m bbox\u001b[38;5;241m.\u001b[39mwidth \u001b[38;5;241m*\u001b[39m fig\u001b[38;5;241m.\u001b[39mdpi, bbox\u001b[38;5;241m.\u001b[39mheight \u001b[38;5;241m*\u001b[39m fig\u001b[38;5;241m.\u001b[39mdpi\n\u001b[1;32m     13\u001b[0m \u001b[38;5;66;03m# Calculate font size proportional to axis units\u001b[39;00m\n",
      "\u001b[0;31mAttributeError\u001b[0m: 'NoneType' object has no attribute 'get_window_extent'"
     ]
    },
    {
     "data": {
      "image/png": "[encoded data removed]",
      "text/plain": [
       "<Figure size 640x480 with 1 Axes>"
      ]
     },
     "metadata": {},
     "output_type": "display_data"
    }
   ],
   "source": [
    "ax=DrawMSA(msa=[\"AC-G-T\", \"A-CGT-\"], color_order=\"ACGT-\",\n",
    "          axlim=[[0,10], [0,10]])\n",
    "ax.set(xlim=[0,10], ylim=[0, 10])"
   ]
  }
 ],
 "metadata": {
  "kernelspec": {
   "display_name": "Python 3 (ipykernel)",
   "language": "python",
   "name": "python3"
  },
  "language_info": {
   "codemirror_mode": {
    "name": "ipython",
    "version": 3
   },
   "file_extension": ".py",
   "mimetype": "text/x-python",
   "name": "python",
   "nbconvert_exporter": "python",
   "pygments_lexer": "ipython3",
   "version": "3.11.0"
  }
 },
 "nbformat": 4,
 "nbformat_minor": 5
}
